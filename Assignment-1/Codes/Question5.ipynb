{
 "cells": [
  {
   "cell_type": "markdown",
   "metadata": {},
   "source": [
    "### Network Visualization In Cytoscape\n",
    "\n",
    "- Here we visualize two networks - The facebook Network as used in Question-1 and genes association network as used in Question-3.\n",
    "- There were three layouts visualized, namely: Default Layout(Grid Layout), Circular Layout and y_Organic_layout.\n",
    "- The Images and the pdf file for these are present in the `Question5-Images&PDF`."
   ]
  },
  {
   "cell_type": "markdown",
   "metadata": {},
   "source": [
    "### Facebook Network\n",
    "- Default Network\n",
    "  \n",
    "![Default Layout](Question5-Images&PDF\\facebook_network_default_layout.png)\n",
    "\n",
    "\n",
    "- Circular Layout\n",
    "  \n",
    "![Circular Layout](Question5-Images&PDF\\facebook_network_circular_layout.png)\n",
    "\n",
    "\n",
    "- y_Organic Layout\n",
    "\n",
    "![Organic Layout](Question5-Images&PDF\\facebook_network_y_organic_layout.png)"
   ]
  },
  {
   "cell_type": "markdown",
   "metadata": {},
   "source": [
    "### Genes Association Network\n",
    "- Default Network\n",
    "  \n",
    "![Default Layout](Question5-Images&PDF\\genes_default_layout.png)\n",
    "\n",
    "\n",
    "- Circular Layout\n",
    "  \n",
    "![Circular Layout](Question5-Images&PDF\\genes_circular_layout.png)\n",
    "\n",
    "\n",
    "- y_Organic Layout\n",
    "\n",
    "![Organic Layout](Question5-Images&PDF\\genes_y_organic_layout.png)"
   ]
  }
 ],
 "metadata": {
  "language_info": {
   "name": "python"
  }
 },
 "nbformat": 4,
 "nbformat_minor": 2
}
