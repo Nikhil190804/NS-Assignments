{
 "cells": [
  {
   "cell_type": "markdown",
   "metadata": {},
   "source": [
    "### Question2\n",
    "- The graph used here represents the network of wikipedia votes.\n",
    "- This is a directed unweighted graph.\n",
    "- The Link for reference for the network is: https://snap.stanford.edu/data/wiki-Vote.html\n",
    "\n",
    "\n",
    "\n",
    "Importing Necessary Libraries"
   ]
  },
  {
   "cell_type": "code",
   "execution_count": 1,
   "metadata": {},
   "outputs": [],
   "source": [
    "import pandas as pd\n",
    "import matplotlib.pyplot as plt\n",
    "from collections import defaultdict"
   ]
  },
  {
   "cell_type": "markdown",
   "metadata": {},
   "source": [
    "Making the Data frame from wikipedia_vote_network.csv file which was generated from wikipedia_vote_network.txt file."
   ]
  },
  {
   "cell_type": "code",
   "execution_count": 2,
   "metadata": {},
   "outputs": [],
   "source": [
    "file_path = \"wikipedia_vote_network.csv\"\n",
    "df = pd.read_csv(file_path)"
   ]
  },
  {
   "cell_type": "markdown",
   "metadata": {},
   "source": [
    "Printing the Data frame."
   ]
  },
  {
   "cell_type": "code",
   "execution_count": 3,
   "metadata": {},
   "outputs": [
    {
     "data": {
      "text/html": [
       "<div>\n",
       "<style scoped>\n",
       "    .dataframe tbody tr th:only-of-type {\n",
       "        vertical-align: middle;\n",
       "    }\n",
       "\n",
       "    .dataframe tbody tr th {\n",
       "        vertical-align: top;\n",
       "    }\n",
       "\n",
       "    .dataframe thead th {\n",
       "        text-align: right;\n",
       "    }\n",
       "</style>\n",
       "<table border=\"1\" class=\"dataframe\">\n",
       "  <thead>\n",
       "    <tr style=\"text-align: right;\">\n",
       "      <th></th>\n",
       "      <th>FromNodeId</th>\n",
       "      <th>ToNodeId</th>\n",
       "    </tr>\n",
       "  </thead>\n",
       "  <tbody>\n",
       "    <tr>\n",
       "      <th>0</th>\n",
       "      <td>30</td>\n",
       "      <td>1412</td>\n",
       "    </tr>\n",
       "    <tr>\n",
       "      <th>1</th>\n",
       "      <td>30</td>\n",
       "      <td>3352</td>\n",
       "    </tr>\n",
       "    <tr>\n",
       "      <th>2</th>\n",
       "      <td>30</td>\n",
       "      <td>5254</td>\n",
       "    </tr>\n",
       "    <tr>\n",
       "      <th>3</th>\n",
       "      <td>30</td>\n",
       "      <td>5543</td>\n",
       "    </tr>\n",
       "    <tr>\n",
       "      <th>4</th>\n",
       "      <td>30</td>\n",
       "      <td>7478</td>\n",
       "    </tr>\n",
       "    <tr>\n",
       "      <th>...</th>\n",
       "      <td>...</td>\n",
       "      <td>...</td>\n",
       "    </tr>\n",
       "    <tr>\n",
       "      <th>103684</th>\n",
       "      <td>8272</td>\n",
       "      <td>4940</td>\n",
       "    </tr>\n",
       "    <tr>\n",
       "      <th>103685</th>\n",
       "      <td>8273</td>\n",
       "      <td>4940</td>\n",
       "    </tr>\n",
       "    <tr>\n",
       "      <th>103686</th>\n",
       "      <td>8150</td>\n",
       "      <td>8275</td>\n",
       "    </tr>\n",
       "    <tr>\n",
       "      <th>103687</th>\n",
       "      <td>8150</td>\n",
       "      <td>8276</td>\n",
       "    </tr>\n",
       "    <tr>\n",
       "      <th>103688</th>\n",
       "      <td>8274</td>\n",
       "      <td>8275</td>\n",
       "    </tr>\n",
       "  </tbody>\n",
       "</table>\n",
       "<p>103689 rows × 2 columns</p>\n",
       "</div>"
      ],
      "text/plain": [
       "        FromNodeId  ToNodeId\n",
       "0               30      1412\n",
       "1               30      3352\n",
       "2               30      5254\n",
       "3               30      5543\n",
       "4               30      7478\n",
       "...            ...       ...\n",
       "103684        8272      4940\n",
       "103685        8273      4940\n",
       "103686        8150      8275\n",
       "103687        8150      8276\n",
       "103688        8274      8275\n",
       "\n",
       "[103689 rows x 2 columns]"
      ]
     },
     "execution_count": 3,
     "metadata": {},
     "output_type": "execute_result"
    }
   ],
   "source": [
    "df"
   ]
  },
  {
   "cell_type": "markdown",
   "metadata": {},
   "source": [
    "Initializing Dictionaries for In-Degree and Out-Degree\n",
    "\n",
    "in_degree: Stores the count of incoming edges for each node.\n",
    "\n",
    "out_degree: Stores the count of outgoing edges for each node.\n",
    "\n",
    "Both dictionaries are initialized with defaultdict(int), meaning if a key (node) does not exist, it starts with a value of 0.\n"
   ]
  },
  {
   "cell_type": "code",
   "execution_count": 4,
   "metadata": {},
   "outputs": [],
   "source": [
    "in_degree = defaultdict(int)\n",
    "out_degree = defaultdict(int)"
   ]
  },
  {
   "cell_type": "markdown",
   "metadata": {},
   "source": [
    "Iterating Through the DataFrame to Compute Degrees\n",
    "\n",
    "Iterates over each row of the DataFrame.\n",
    "from_node represents the starting node of a directed edge.\n",
    "to_node represents the ending node of a directed edge.\n",
    "out_degree[from_node] += 1: Increments the count of outgoing edges for from_node.\n",
    "in_degree[to_node] += 1: Increments the count of incoming edges for to_node."
   ]
  },
  {
   "cell_type": "code",
   "execution_count": 5,
   "metadata": {},
   "outputs": [],
   "source": [
    "for index, row in df.iterrows():\n",
    "    from_node, to_node = row[\"FromNodeId\"], row[\"ToNodeId\"]\n",
    "    out_degree[from_node] += 1\n",
    "    in_degree[to_node] += 1"
   ]
  },
  {
   "cell_type": "markdown",
   "metadata": {},
   "source": [
    "Converts the in_degree and out_degree dictionaries into Pandas DataFrames."
   ]
  },
  {
   "cell_type": "code",
   "execution_count": 6,
   "metadata": {},
   "outputs": [],
   "source": [
    "in_degree_df = pd.DataFrame(in_degree.items(), columns=[\"NodeId\", \"InDegree\"])\n",
    "out_degree_df = pd.DataFrame(out_degree.items(), columns=[\"NodeId\", \"OutDegree\"])"
   ]
  },
  {
   "cell_type": "markdown",
   "metadata": {},
   "source": [
    "Plotting In-Degree Distribution"
   ]
  },
  {
   "cell_type": "code",
   "execution_count": 9,
   "metadata": {},
   "outputs": [
    {
     "data": {
      "image/png": "[encoded data removed]",
      "text/plain": [
       "<Figure size 1200x600 with 1 Axes>"
      ]
     },
     "metadata": {},
     "output_type": "display_data"
    }
   ],
   "source": [
    "plt.figure(figsize=(12, 6))\n",
    "plt.hist(in_degree.values(), bins=50, color='skyblue', alpha=0.7, label=\"In-Degree\")\n",
    "plt.xlabel(\"Degree\")\n",
    "plt.ylabel(\"Frequency\")\n",
    "plt.title(\"In-Degree Distribution\")\n",
    "plt.legend()\n",
    "plt.grid(True)\n",
    "plt.savefig('q2_in_degree_distribution.png', dpi=1000, bbox_inches='tight') \n",
    "plt.show()"
   ]
  },
  {
   "cell_type": "markdown",
   "metadata": {},
   "source": [
    "Plotting Out-Degree Distribution"
   ]
  },
  {
   "cell_type": "code",
   "execution_count": 10,
   "metadata": {},
   "outputs": [
    {
     "data": {
      "image/png": "[encoded data removed]",
      "text/plain": [
       "<Figure size 1200x600 with 1 Axes>"
      ]
     },
     "metadata": {},
     "output_type": "display_data"
    }
   ],
   "source": [
    "plt.figure(figsize=(12, 6))\n",
    "plt.hist(out_degree.values(), bins=50, color='orange', alpha=0.7, label=\"Out-Degree\")\n",
    "plt.xlabel(\"Degree\")\n",
    "plt.ylabel(\"Frequency\")\n",
    "plt.title(\"Out-Degree Distribution\")\n",
    "plt.legend()\n",
    "plt.grid(True)\n",
    "plt.savefig('q2_out_degree_distribution.png', dpi=1000, bbox_inches='tight') \n",
    "plt.show()"
   ]
  }
 ],
 "metadata": {
  "kernelspec": {
   "display_name": "Python 3",
   "language": "python",
   "name": "python3"
  },
  "language_info": {
   "codemirror_mode": {
    "name": "ipython",
    "version": 3
   },
   "file_extension": ".py",
   "mimetype": "text/x-python",
   "name": "python",
   "nbconvert_exporter": "python",
   "pygments_lexer": "ipython3",
   "version": "3.12.8"
  }
 },
 "nbformat": 4,
 "nbformat_minor": 2
}
