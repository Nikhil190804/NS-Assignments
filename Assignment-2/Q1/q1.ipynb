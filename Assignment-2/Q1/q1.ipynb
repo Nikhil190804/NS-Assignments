{
  "cells": [
    {
      "cell_type": "markdown",
      "metadata": {
        "id": "Cp7_EXDyFx01"
      },
      "source": [
        "## Question-1\n",
        "\n",
        "### Graph Parameters\n",
        "- Firstly we defined the number of nodes and degree for each edge.\n",
        "- We took Number of Nodes(N) to be 1500\n",
        "- We took Degree(k) of each Node to be 50"
      ]
    },
    {
      "cell_type": "code",
      "execution_count": 108,
      "metadata": {
        "id": "tUD2tYgeFx04"
      },
      "outputs": [],
      "source": [
        "NUMBER_OF_NODES = 1500\n",
        "INITIAL_AVG_DEGREE = 50"
      ]
    },
    {
      "cell_type": "markdown",
      "metadata": {
        "id": "gGz_AHcBFx06"
      },
      "source": [
        "### Generating Regular Graph\n",
        "- We started with making the regular graph with the defined parameters.\n",
        "- For this, we first initialize an empty AJD_MATRIX of size NUM_NODES X NUM_NODES.\n",
        "- Next, we split the Edges into two groups: left and right edges.\n",
        "- The number of left edges would be Degree/2.\n",
        "- The number of right edges would be Degree - number of left edges.\n",
        "- Next, we ran a simple for loop logic to connect two edges, we first check whether taking this edge is allowed or not, by checking if it is less than number of nodes for right edges, if yes then directly mark 1 for this connection in the adj matrix and if no then account for a left edge for this, so as to keep the number of edges equal to the degree.\n",
        "- Similarly, for left edges we first checked if it is greater than 0, if yes then directly mark 1 for this connection in the adj matrix and if no then account for a right edge for this, so as to keep the number of edges equal to the degree.\n",
        "- After this we got our initial regular graph."
      ]
    },
    {
      "cell_type": "code",
      "execution_count": 109,
      "metadata": {
        "id": "wNsS1rcOFx06"
      },
      "outputs": [],
      "source": [
        "# generating the ring link graph\n",
        "\n",
        "ADJ_MATRIX = []\n",
        "for i in range(0,NUMBER_OF_NODES):\n",
        "    current_row = []\n",
        "    for j in range(0,NUMBER_OF_NODES):\n",
        "        current_row.append(0)\n",
        "    ADJ_MATRIX.append(current_row)\n",
        "\n",
        "EDGES_TO_LEFT = INITIAL_AVG_DEGREE // 2\n",
        "EDGES_TO_RIGHT = INITIAL_AVG_DEGREE - EDGES_TO_LEFT\n",
        "\n",
        "for choosen_node in range(0,NUMBER_OF_NODES):\n",
        "    RIGHT_BOUND = choosen_node + EDGES_TO_RIGHT\n",
        "    if(RIGHT_BOUND < NUMBER_OF_NODES):\n",
        "        for neighbour in range(choosen_node+1,RIGHT_BOUND):\n",
        "            ADJ_MATRIX[choosen_node][neighbour]=1\n",
        "            ADJ_MATRIX[neighbour][choosen_node] = 1\n",
        "    else:\n",
        "        ALLOWED_RIGHT_BOUND = NUMBER_OF_NODES - choosen_node -1\n",
        "        for neighbour in range(choosen_node+1,NUMBER_OF_NODES):\n",
        "            ADJ_MATRIX[choosen_node][neighbour]=1\n",
        "            ADJ_MATRIX[neighbour][choosen_node] = 1\n",
        "\n",
        "        RIGHT_BOUND_LEFT = EDGES_TO_RIGHT - (ALLOWED_RIGHT_BOUND )\n",
        "        for neighbour in range(RIGHT_BOUND_LEFT):\n",
        "            ADJ_MATRIX[choosen_node][neighbour]=1\n",
        "            ADJ_MATRIX[neighbour][choosen_node] = 1\n",
        "\n",
        "\n",
        "    LEFT_BOUND = choosen_node - EDGES_TO_LEFT\n",
        "    if LEFT_BOUND >= 0:\n",
        "        for neighbour in range(LEFT_BOUND, choosen_node):\n",
        "            ADJ_MATRIX[choosen_node][neighbour] = 1\n",
        "            ADJ_MATRIX[neighbour][choosen_node] = 1\n",
        "    else:\n",
        "        ALLOWED_LEFT_BOUND = choosen_node\n",
        "        for neighbour in range(0, choosen_node):\n",
        "            ADJ_MATRIX[choosen_node][neighbour] = 1\n",
        "            ADJ_MATRIX[neighbour][choosen_node] = 1\n",
        "\n",
        "        LEFT_BOUND_LEFT = EDGES_TO_LEFT - ALLOWED_LEFT_BOUND -1\n",
        "        for neighbour in range(NUMBER_OF_NODES - LEFT_BOUND_LEFT, NUMBER_OF_NODES):\n",
        "            ADJ_MATRIX[choosen_node][neighbour] = 1\n",
        "            ADJ_MATRIX[neighbour][choosen_node] = 1\n"
      ]
    },
    {
      "cell_type": "markdown",
      "metadata": {
        "id": "sdu_5xRRFx07"
      },
      "source": [
        "### Writing Functions for BFS, Calculation of Path Length And Calculation of Clustering Coefficient\n",
        "- To calculate the avg path length we use the following formula:-\n",
        "- Average Path Length = Total Distance / Number of Valid Pairs\n",
        "\n",
        "\n",
        "- Clustering Coefficient (C) = (2 * Number of Actual Edges Between Neighbors) / (Degree of Node * (Degree of Node - 1))\n",
        "  \n",
        "Where:\n",
        "- **Number of Actual Edges Between Neighbors** is the number of edges that actually exist between the neighbors of the node.\n",
        "- **Degree of Node** is the number of neighbors connected to the node.\n",
        "\n",
        "The clustering coefficient measures how interconnected the neighbors of a node are to each other. A high clustering coefficient indicates that the node’s neighbors are densely connected."
      ]
    },
    {
      "cell_type": "code",
      "execution_count": null,
      "metadata": {
        "id": "dm2kOg5vFx08"
      },
      "outputs": [],
      "source": [
        "from collections import deque\n",
        "\n",
        "def bfs(source, num_nodes,adj_list):\n",
        "    distances={}\n",
        "    for i in range(num_nodes):\n",
        "        distances[i]=float('inf')\n",
        "    distances[source] = 0\n",
        "    queue = deque([source])\n",
        "\n",
        "    while queue:\n",
        "        node = queue.popleft()\n",
        "        for neighbor in adj_list[node]:\n",
        "            if distances[neighbor] == float('inf'):\n",
        "                distances[neighbor] = distances[node] + 1\n",
        "                queue.append(neighbor)\n",
        "\n",
        "    return distances\n",
        "\n",
        "\n",
        "def calculate_avg_path_length(ADJ_MATRIX):\n",
        "    num_nodes=len(ADJ_MATRIX)\n",
        "    ADJ_LIST = {}\n",
        "\n",
        "    for i in range(num_nodes):\n",
        "        ADJ_LIST[i]=[]\n",
        "\n",
        "    for i in range(num_nodes):\n",
        "        for j in range(num_nodes):\n",
        "            if(ADJ_MATRIX[i][j]==1):\n",
        "                ADJ_LIST[i].append(j)\n",
        "\n",
        "    TOTAL_DISTANCE=0\n",
        "    PAIRS=0\n",
        "    max_path_length=-1\n",
        "\n",
        "    for node in range(num_nodes):\n",
        "        temp_list=[]\n",
        "        distance_array = bfs(node,num_nodes,ADJ_LIST)\n",
        "        for dst in range(num_nodes):\n",
        "            if((node!=dst) and (distance_array[dst]!=float('inf'))):\n",
        "                TOTAL_DISTANCE+=distance_array[dst]\n",
        "                PAIRS+=1\n",
        "        for dist in distance_array.values():\n",
        "            if dist != float('inf'):\n",
        "                temp_list.append(dist)\n",
        "        max_path_length=max(max_path_length,max(temp_list))\n",
        "\n",
        "    avg_path_length=TOTAL_DISTANCE/PAIRS\n",
        "    return avg_path_length\n",
        "\n",
        "\n",
        "\n",
        "def find_clustering_coefficient(adj_matrix):\n",
        "    num_nodes=len(adj_matrix)\n",
        "    sum_of_coefficients = 0\n",
        "\n",
        "    for src in range(num_nodes):\n",
        "        degree=0\n",
        "        neighbours=[]\n",
        "        comman_edge=0\n",
        "        for dst in range(num_nodes):\n",
        "            if(adj_matrix[src][dst]==1):\n",
        "                degree+=1\n",
        "                neighbours.append(dst)\n",
        "\n",
        "        if(degree < 2):\n",
        "            continue\n",
        "\n",
        "        for i in range(degree):\n",
        "            for j in range(i + 1, degree):\n",
        "                if adj_matrix[neighbours[i]][neighbours[j]] == 1:\n",
        "                    comman_edge += 1\n",
        "\n",
        "        coefficinet=(2*(comman_edge))/(degree*(degree-1))\n",
        "        sum_of_coefficients+=coefficinet\n",
        "\n",
        "    avg_clustering_coefficient = sum_of_coefficients / num_nodes\n",
        "    return avg_clustering_coefficient\n",
        "\n"
      ]
    },
    {
      "cell_type": "markdown",
      "metadata": {
        "id": "k7U81apIFx09"
      },
      "source": [
        "### Finding the Initial Path Length And Clustering Coefficient\n",
        "- Next, we stored the path lengths and clustering coefficient for the regular graph, in order to scale the later values."
      ]
    },
    {
      "cell_type": "code",
      "execution_count": 111,
      "metadata": {
        "colab": {
          "base_uri": "https://localhost:8080/"
        },
        "id": "o-2MPsGjFx0-",
        "outputId": "a3117462-5ae5-48d6-9a57-ee9174741d04"
      },
      "outputs": [
        {
          "name": "stdout",
          "output_type": "stream",
          "text": [
            "15.490326884589727\n",
            "0.7346938775510015\n"
          ]
        }
      ],
      "source": [
        "ORIGINAL_PATH_LENGTH = calculate_avg_path_length(ADJ_MATRIX)\n",
        "ORIGINAL_CLUSTERING_COEFF = find_clustering_coefficient(ADJ_MATRIX)\n",
        "\n",
        "print(ORIGINAL_PATH_LENGTH)\n",
        "print(ORIGINAL_CLUSTERING_COEFF)"
      ]
    },
    {
      "cell_type": "markdown",
      "metadata": {
        "id": "THg9MMo9Fx0-"
      },
      "source": [
        "### Rewiring the Edges\n",
        "\n",
        "1. Loop through each node in the adjacency matrix.\n",
        "2. Identify its neighbors from the original ring lattice.\n",
        "3. With probability `p`, each edge `(node, neighbor)` is rewired:\n",
        "   - Remove the existing edge.\n",
        "   - Find a new random node that is not already connected.\n",
        "   - Create a new edge to this random node.\n",
        "4. Repeat for different `p` values to observe the transition from a regular lattice to a random graph."
      ]
    },
    {
      "cell_type": "code",
      "execution_count": 112,
      "metadata": {
        "id": "2V6YZrMxFx0_"
      },
      "outputs": [],
      "source": [
        "import copy\n",
        "import random\n",
        "import numpy as np\n",
        "random.seed(34322341)\n",
        "ORIGINAL_ADJ_MATRIX = copy.deepcopy(ADJ_MATRIX)\n",
        "\n",
        "\n",
        "P_VALUES = np.logspace(-4, 0, num=20)\n",
        "P_VALUES = [round(p, 6) for p in P_VALUES]\n",
        "num_nodes = len(ORIGINAL_ADJ_MATRIX)\n",
        "\n",
        "DATA_GATHERED = []\n",
        "\n",
        "for p in P_VALUES:\n",
        "    #print(p)\n",
        "    new_adj = copy.deepcopy(ADJ_MATRIX)\n",
        "    for node in range(num_nodes):\n",
        "        neighbours=[]\n",
        "        for i in range(num_nodes):\n",
        "            if(ORIGINAL_ADJ_MATRIX[node][i]==1):\n",
        "                neighbours.append(i)\n",
        "\n",
        "        for neighbour in neighbours:\n",
        "            if node < neighbour:\n",
        "                kya_tujhe_rewire_kru = random.random()\n",
        "                if(p > kya_tujhe_rewire_kru):\n",
        "                    new_adj[node][neighbour]=0\n",
        "                    new_adj[neighbour][node]=0\n",
        "\n",
        "                    not_found = True\n",
        "\n",
        "                    while not_found:\n",
        "                        random_edge = random.randint(0,num_nodes-1)\n",
        "\n",
        "                        if((random_edge !=node) and (new_adj[node][random_edge]==0)):\n",
        "                            new_adj[node][random_edge]=1\n",
        "                            new_adj[random_edge][node]=1\n",
        "                            not_found = False\n",
        "\n",
        "\n",
        "    mera_path_length = calculate_avg_path_length(new_adj)\n",
        "    mera_clustering_coeff = find_clustering_coefficient(new_adj)\n",
        "    DATA_GATHERED.append({p:[mera_path_length/ORIGINAL_PATH_LENGTH,mera_clustering_coeff/ORIGINAL_CLUSTERING_COEFF]})\n",
        "\n"
      ]
    },
    {
      "cell_type": "markdown",
      "metadata": {
        "id": "76QBNJ_RFx0_"
      },
      "source": [
        "### Plotting The Data\n",
        "\n",
        "- Next we simply plot the clustering coefficient obtained and the average path lengths using the matplotlib."
      ]
    },
    {
      "cell_type": "code",
      "execution_count": 113,
      "metadata": {
        "colab": {
          "base_uri": "https://localhost:8080/",
          "height": 476
        },
        "id": "4Z_EsbxbFx1A",
        "outputId": "5db8a595-f8c7-4b1f-a640-5e70f68066a4"
      },
      "outputs": [
        {
          "data": {
            "image/png": "[encoded data removed]",
            "text/plain": [
              "<Figure size 640x480 with 1 Axes>"
            ]
          },
          "metadata": {},
          "output_type": "display_data"
        }
      ],
      "source": [
        "import matplotlib.pyplot as plt\n",
        "\n",
        "all_path_lengths = []\n",
        "all_clustering_coeff = []\n",
        "\n",
        "for all_data in DATA_GATHERED:\n",
        "    dict = list(all_data.values())\n",
        "    path_length = dict[0][0]\n",
        "    clustering_coeff = dict[0][1]\n",
        "    all_path_lengths.append(path_length)\n",
        "    all_clustering_coeff.append(clustering_coeff)\n",
        "\n",
        "plt.plot(P_VALUES, all_path_lengths, 'r-o', label='Scaled Characteristic Path Length')\n",
        "plt.plot(P_VALUES, all_clustering_coeff, 'g-s', label='Scaled Clustering Coefficient')\n",
        "\n",
        "plt.xscale('log')\n",
        "\n",
        "plt.xlabel(\"Rewiring Probability (p)\")\n",
        "plt.ylabel(\"Normalized Values (0 to 1)\")\n",
        "plt.title(\"Watts and Strogatz\\'s Small-World Network Model\")\n",
        "\n",
        "plt.grid(True, linestyle='--', linewidth=0.6, alpha=0.7)\n",
        "plt.legend()\n",
        "plt.show()"
      ]
    }
  ],
  "metadata": {
    "colab": {
      "provenance": []
    },
    "kernelspec": {
      "display_name": "Python 3",
      "language": "python",
      "name": "python3"
    },
    "language_info": {
      "codemirror_mode": {
        "name": "ipython",
        "version": 3
      },
      "file_extension": ".py",
      "mimetype": "text/x-python",
      "name": "python",
      "nbconvert_exporter": "python",
      "pygments_lexer": "ipython3",
      "version": "3.12.8"
    }
  },
  "nbformat": 4,
  "nbformat_minor": 0
}
